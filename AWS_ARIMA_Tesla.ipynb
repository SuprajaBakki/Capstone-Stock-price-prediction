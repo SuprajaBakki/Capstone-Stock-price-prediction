{
 "cells": [
  {
   "cell_type": "code",
   "execution_count": 1,
   "metadata": {
    "id": "RLu_PaWmj3cg"
   },
   "outputs": [],
   "source": [
    "import sagemaker\n",
    "import boto3\n",
    "from sagemaker.session import s3_input, Session"
   ]
  },
  {
   "cell_type": "code",
   "execution_count": 2,
   "metadata": {},
   "outputs": [
    {
     "name": "stdout",
     "output_type": "stream",
     "text": [
      "us-east-1\n"
     ]
    }
   ],
   "source": [
    "bucket_name = 'supraja-arima-tesladataset' \n",
    "my_region = boto3.session.Session().region_name # set the region of the instance\n",
    "print(my_region)"
   ]
  },
  {
   "cell_type": "code",
   "execution_count": 3,
   "metadata": {},
   "outputs": [
    {
     "name": "stdout",
     "output_type": "stream",
     "text": [
      "S3 bucket created successfully\n"
     ]
    }
   ],
   "source": [
    "s3 = boto3.resource('s3')\n",
    "try:\n",
    "    if  my_region == 'us-east-1':\n",
    "        s3.create_bucket(Bucket=bucket_name)\n",
    "    print('S3 bucket created successfully')\n",
    "except Exception as e:\n",
    "    print('S3 error: ',e)"
   ]
  },
  {
   "cell_type": "code",
   "execution_count": 4,
   "metadata": {},
   "outputs": [
    {
     "name": "stdout",
     "output_type": "stream",
     "text": [
      "s3://supraja-arima-tesladataset/arima-tesla-as-a-built-in-algo/output\n"
     ]
    }
   ],
   "source": [
    "# set an output path where the trained model will be saved\n",
    "prefix = 'arima-tesla-as-a-built-in-algo'\n",
    "output_path ='s3://{}/{}/output'.format(bucket_name, prefix)\n",
    "print(output_path)"
   ]
  },
  {
   "cell_type": "code",
   "execution_count": 5,
   "metadata": {},
   "outputs": [],
   "source": [
    "import yfinance as yf\n",
    "import pandas as pd\n",
    "import matplotlib.pyplot as plt"
   ]
  },
  {
   "cell_type": "code",
   "execution_count": 6,
   "metadata": {
    "id": "6Kq1DH0Bj68X"
   },
   "outputs": [
    {
     "name": "stdout",
     "output_type": "stream",
     "text": [
      "[*********************100%***********************]  1 of 1 completed\n"
     ]
    }
   ],
   "source": [
    "symbol = [\"TSLA\"]\n",
    "start_date = \"2007-01-02\"\n",
    "features = yf.download(symbol, start=start_date)\n"
   ]
  },
  {
   "cell_type": "code",
   "execution_count": 7,
   "metadata": {
    "id": "OlTtZW-FlmPV"
   },
   "outputs": [],
   "source": [
    "# Drop multiple columns\n",
    "features = features.drop(['Open', 'High','Low', 'Adj Close','Volume'], axis=1)"
   ]
  },
  {
   "cell_type": "code",
   "execution_count": 8,
   "metadata": {
    "id": "keL8KcmHlmV_"
   },
   "outputs": [
    {
     "data": {
      "text/html": [
       "<div>\n",
       "<style scoped>\n",
       "    .dataframe tbody tr th:only-of-type {\n",
       "        vertical-align: middle;\n",
       "    }\n",
       "\n",
       "    .dataframe tbody tr th {\n",
       "        vertical-align: top;\n",
       "    }\n",
       "\n",
       "    .dataframe thead th {\n",
       "        text-align: right;\n",
       "    }\n",
       "</style>\n",
       "<table border=\"1\" class=\"dataframe\">\n",
       "  <thead>\n",
       "    <tr style=\"text-align: right;\">\n",
       "      <th></th>\n",
       "      <th>Close</th>\n",
       "    </tr>\n",
       "    <tr>\n",
       "      <th>Date</th>\n",
       "      <th></th>\n",
       "    </tr>\n",
       "  </thead>\n",
       "  <tbody>\n",
       "    <tr>\n",
       "      <th>2010-06-29</th>\n",
       "      <td>1.592667</td>\n",
       "    </tr>\n",
       "    <tr>\n",
       "      <th>2010-06-30</th>\n",
       "      <td>1.588667</td>\n",
       "    </tr>\n",
       "    <tr>\n",
       "      <th>2010-07-01</th>\n",
       "      <td>1.464000</td>\n",
       "    </tr>\n",
       "    <tr>\n",
       "      <th>2010-07-02</th>\n",
       "      <td>1.280000</td>\n",
       "    </tr>\n",
       "    <tr>\n",
       "      <th>2010-07-06</th>\n",
       "      <td>1.074000</td>\n",
       "    </tr>\n",
       "    <tr>\n",
       "      <th>...</th>\n",
       "      <td>...</td>\n",
       "    </tr>\n",
       "    <tr>\n",
       "      <th>2023-07-27</th>\n",
       "      <td>255.710007</td>\n",
       "    </tr>\n",
       "    <tr>\n",
       "      <th>2023-07-28</th>\n",
       "      <td>266.440002</td>\n",
       "    </tr>\n",
       "    <tr>\n",
       "      <th>2023-07-31</th>\n",
       "      <td>267.429993</td>\n",
       "    </tr>\n",
       "    <tr>\n",
       "      <th>2023-08-01</th>\n",
       "      <td>261.070007</td>\n",
       "    </tr>\n",
       "    <tr>\n",
       "      <th>2023-08-02</th>\n",
       "      <td>254.110001</td>\n",
       "    </tr>\n",
       "  </tbody>\n",
       "</table>\n",
       "<p>3296 rows × 1 columns</p>\n",
       "</div>"
      ],
      "text/plain": [
       "                 Close\n",
       "Date                  \n",
       "2010-06-29    1.592667\n",
       "2010-06-30    1.588667\n",
       "2010-07-01    1.464000\n",
       "2010-07-02    1.280000\n",
       "2010-07-06    1.074000\n",
       "...                ...\n",
       "2023-07-27  255.710007\n",
       "2023-07-28  266.440002\n",
       "2023-07-31  267.429993\n",
       "2023-08-01  261.070007\n",
       "2023-08-02  254.110001\n",
       "\n",
       "[3296 rows x 1 columns]"
      ]
     },
     "execution_count": 8,
     "metadata": {},
     "output_type": "execute_result"
    }
   ],
   "source": [
    "features"
   ]
  },
  {
   "cell_type": "code",
   "execution_count": 9,
   "metadata": {
    "id": "WS2CTgpjj6-W"
   },
   "outputs": [
    {
     "data": {
      "text/plain": [
       "Close    0\n",
       "dtype: int64"
      ]
     },
     "execution_count": 9,
     "metadata": {},
     "output_type": "execute_result"
    }
   ],
   "source": [
    "features = features.dropna(axis=0)\n",
    "features.isna().sum()"
   ]
  },
  {
   "cell_type": "code",
   "execution_count": 10,
   "metadata": {
    "id": "y9MCrfKRj7Dl"
   },
   "outputs": [
    {
     "data": {
      "image/png": "[encoded data removed]",
      "text/plain": [
       "<Figure size 1800x900 with 1 Axes>"
      ]
     },
     "metadata": {},
     "output_type": "display_data"
    }
   ],
   "source": [
    "features_plot = pd.DataFrame(features, index=features.index)\n",
    "# Plot the DataFrame\n",
    "features_plot.plot(figsize=(18,9))\n",
    "plt.show()"
   ]
  },
  {
   "cell_type": "code",
   "execution_count": 11,
   "metadata": {
    "id": "OszqUFIPo89U"
   },
   "outputs": [
    {
     "name": "stdout",
     "output_type": "stream",
     "text": [
      "Looking in indexes: https://pypi.org/simple, https://pip.repos.neuron.amazonaws.com\n",
      "Requirement already satisfied: pmdarima in /home/ec2-user/anaconda3/envs/tensorflow2_p310/lib/python3.10/site-packages (2.0.3)\n",
      "Requirement already satisfied: joblib>=0.11 in /home/ec2-user/anaconda3/envs/tensorflow2_p310/lib/python3.10/site-packages (from pmdarima) (1.2.0)\n",
      "Requirement already satisfied: Cython!=0.29.18,!=0.29.31,>=0.29 in /home/ec2-user/anaconda3/envs/tensorflow2_p310/lib/python3.10/site-packages (from pmdarima) (0.29.34)\n",
      "Requirement already satisfied: numpy>=1.21.2 in /home/ec2-user/anaconda3/envs/tensorflow2_p310/lib/python3.10/site-packages (from pmdarima) (1.24.3)\n",
      "Requirement already satisfied: pandas>=0.19 in /home/ec2-user/anaconda3/envs/tensorflow2_p310/lib/python3.10/site-packages (from pmdarima) (1.5.3)\n",
      "Requirement already satisfied: scikit-learn>=0.22 in /home/ec2-user/anaconda3/envs/tensorflow2_p310/lib/python3.10/site-packages (from pmdarima) (1.2.2)\n",
      "Requirement already satisfied: scipy>=1.3.2 in /home/ec2-user/anaconda3/envs/tensorflow2_p310/lib/python3.10/site-packages (from pmdarima) (1.10.1)\n",
      "Requirement already satisfied: statsmodels>=0.13.2 in /home/ec2-user/anaconda3/envs/tensorflow2_p310/lib/python3.10/site-packages (from pmdarima) (0.14.0)\n",
      "Requirement already satisfied: urllib3 in /home/ec2-user/anaconda3/envs/tensorflow2_p310/lib/python3.10/site-packages (from pmdarima) (1.26.14)\n",
      "Requirement already satisfied: setuptools!=50.0.0,>=38.6.0 in /home/ec2-user/anaconda3/envs/tensorflow2_p310/lib/python3.10/site-packages (from pmdarima) (67.7.2)\n",
      "Requirement already satisfied: python-dateutil>=2.8.1 in /home/ec2-user/anaconda3/envs/tensorflow2_p310/lib/python3.10/site-packages (from pandas>=0.19->pmdarima) (2.8.2)\n",
      "Requirement already satisfied: pytz>=2020.1 in /home/ec2-user/anaconda3/envs/tensorflow2_p310/lib/python3.10/site-packages (from pandas>=0.19->pmdarima) (2023.3)\n",
      "Requirement already satisfied: threadpoolctl>=2.0.0 in /home/ec2-user/anaconda3/envs/tensorflow2_p310/lib/python3.10/site-packages (from scikit-learn>=0.22->pmdarima) (3.1.0)\n",
      "Requirement already satisfied: patsy>=0.5.2 in /home/ec2-user/anaconda3/envs/tensorflow2_p310/lib/python3.10/site-packages (from statsmodels>=0.13.2->pmdarima) (0.5.3)\n",
      "Requirement already satisfied: packaging>=21.3 in /home/ec2-user/anaconda3/envs/tensorflow2_p310/lib/python3.10/site-packages (from statsmodels>=0.13.2->pmdarima) (21.3)\n",
      "Requirement already satisfied: pyparsing!=3.0.5,>=2.0.2 in /home/ec2-user/anaconda3/envs/tensorflow2_p310/lib/python3.10/site-packages (from packaging>=21.3->statsmodels>=0.13.2->pmdarima) (3.0.9)\n",
      "Requirement already satisfied: six in /home/ec2-user/anaconda3/envs/tensorflow2_p310/lib/python3.10/site-packages (from patsy>=0.5.2->statsmodels>=0.13.2->pmdarima) (1.16.0)\n",
      "Note: you may need to restart the kernel to use updated packages.\n"
     ]
    }
   ],
   "source": [
    "pip install pmdarima"
   ]
  },
  {
   "cell_type": "code",
   "execution_count": 12,
   "metadata": {
    "id": "IVQGaGDM1DlP"
   },
   "outputs": [],
   "source": [
    "import pandas as pd\n",
    "import numpy as np"
   ]
  },
  {
   "cell_type": "code",
   "execution_count": 13,
   "metadata": {
    "id": "v_Zlxcjv1DnT"
   },
   "outputs": [
    {
     "data": {
      "text/plain": [
       "(3296, 1)"
      ]
     },
     "execution_count": 13,
     "metadata": {},
     "output_type": "execute_result"
    }
   ],
   "source": [
    "df = features \n",
    "df.shape"
   ]
  },
  {
   "cell_type": "code",
   "execution_count": 14,
   "metadata": {
    "id": "hCw6ZZSy1Dpi"
   },
   "outputs": [],
   "source": [
    "from statsmodels.tsa.stattools import adfuller\n",
    "\n",
    "def ad_test(dataset):\n",
    "  dftest = adfuller(dataset, autolag = \"AIC\")\n",
    "  print(\"1. ADF : \" , dftest[0])\n",
    "  print(\"2. P-value :\" , dftest[1])\n",
    "  print(\"3. Num of Lags :\" , dftest[2])\n",
    "  print(\"4. Num of Observations Used For ADF Regressor and Critical Value Calculations  :\" , dftest[3])\n",
    "  print(\"5. Critical Values :\")\n",
    "  for key, val in dftest[4].items():\n",
    "    print(\"\\t\", key,\": \", val)"
   ]
  },
  {
   "cell_type": "code",
   "execution_count": 15,
   "metadata": {
    "id": "z7AwhQjC1DsD"
   },
   "outputs": [
    {
     "name": "stdout",
     "output_type": "stream",
     "text": [
      "1. ADF :  -0.8048470280064846\n",
      "2. P-value : 0.8176941418388769\n",
      "3. Num of Lags : 29\n",
      "4. Num of Observations Used For ADF Regressor and Critical Value Calculations  : 3266\n",
      "5. Critical Values :\n",
      "\t 1% :  -3.432353811104443\n",
      "\t 5% :  -2.862425364403165\n",
      "\t 10% :  -2.567241298246627\n"
     ]
    }
   ],
   "source": [
    "ad_test(df[\"Close\"])"
   ]
  },
  {
   "cell_type": "markdown",
   "metadata": {
    "id": "0LJhsOQz390r"
   },
   "source": [
    "As from above test we see that the P-value is very high at 0.99 which states that the data is not staionary."
   ]
  },
  {
   "cell_type": "code",
   "execution_count": 16,
   "metadata": {
    "id": "eVG3A8g91DuW"
   },
   "outputs": [],
   "source": [
    "from pmdarima import auto_arima\n",
    "import warnings\n",
    "warnings.filterwarnings(\"ignore\")"
   ]
  },
  {
   "cell_type": "code",
   "execution_count": 17,
   "metadata": {
    "id": "ikyA3Mmjo8_l"
   },
   "outputs": [
    {
     "name": "stdout",
     "output_type": "stream",
     "text": [
      " ARIMA(0,1,0)(0,0,0)[0] intercept   : AIC=19362.737, Time=0.11 sec\n",
      " ARIMA(0,1,1)(0,0,0)[0] intercept   : AIC=19361.273, Time=0.62 sec\n",
      " ARIMA(0,1,2)(0,0,0)[0] intercept   : AIC=19362.829, Time=0.90 sec\n",
      " ARIMA(0,1,3)(0,0,0)[0] intercept   : AIC=19364.723, Time=1.62 sec\n",
      " ARIMA(0,1,4)(0,0,0)[0] intercept   : AIC=19357.660, Time=1.62 sec\n",
      " ARIMA(0,1,5)(0,0,0)[0] intercept   : AIC=19356.559, Time=2.92 sec\n",
      " ARIMA(1,1,0)(0,0,0)[0] intercept   : AIC=19361.194, Time=0.30 sec\n",
      " ARIMA(1,1,1)(0,0,0)[0] intercept   : AIC=19362.362, Time=2.01 sec\n",
      " ARIMA(1,1,2)(0,0,0)[0] intercept   : AIC=19364.359, Time=2.72 sec\n",
      " ARIMA(1,1,3)(0,0,0)[0] intercept   : AIC=19366.113, Time=1.88 sec\n",
      " ARIMA(1,1,4)(0,0,0)[0] intercept   : AIC=19364.916, Time=3.96 sec\n",
      " ARIMA(2,1,0)(0,0,0)[0] intercept   : AIC=19362.809, Time=0.55 sec\n",
      " ARIMA(2,1,1)(0,0,0)[0] intercept   : AIC=19360.217, Time=2.65 sec\n",
      " ARIMA(2,1,2)(0,0,0)[0] intercept   : AIC=19366.353, Time=2.35 sec\n",
      " ARIMA(2,1,3)(0,0,0)[0] intercept   : AIC=19305.470, Time=8.02 sec\n",
      " ARIMA(3,1,0)(0,0,0)[0] intercept   : AIC=19364.784, Time=0.70 sec\n",
      " ARIMA(3,1,1)(0,0,0)[0] intercept   : AIC=19361.626, Time=3.16 sec\n",
      " ARIMA(3,1,2)(0,0,0)[0] intercept   : AIC=19360.614, Time=4.66 sec\n",
      " ARIMA(4,1,0)(0,0,0)[0] intercept   : AIC=19358.268, Time=0.87 sec\n",
      " ARIMA(4,1,1)(0,0,0)[0] intercept   : AIC=19360.063, Time=2.82 sec\n",
      " ARIMA(5,1,0)(0,0,0)[0] intercept   : AIC=19359.884, Time=1.18 sec\n",
      "\n",
      "Best model:  ARIMA(2,1,3)(0,0,0)[0] intercept\n",
      "Total fit time: 45.666 seconds\n"
     ]
    },
    {
     "data": {
      "text/html": [
       "<table class=\"simpletable\">\n",
       "<caption>SARIMAX Results</caption>\n",
       "<tr>\n",
       "  <th>Dep. Variable:</th>           <td>y</td>        <th>  No. Observations:  </th>   <td>3296</td>   \n",
       "</tr>\n",
       "<tr>\n",
       "  <th>Model:</th>           <td>SARIMAX(2, 1, 3)</td> <th>  Log Likelihood     </th> <td>-9645.735</td>\n",
       "</tr>\n",
       "<tr>\n",
       "  <th>Date:</th>            <td>Thu, 03 Aug 2023</td> <th>  AIC                </th> <td>19305.470</td>\n",
       "</tr>\n",
       "<tr>\n",
       "  <th>Time:</th>                <td>04:37:35</td>     <th>  BIC                </th> <td>19348.171</td>\n",
       "</tr>\n",
       "<tr>\n",
       "  <th>Sample:</th>                  <td>0</td>        <th>  HQIC               </th> <td>19320.756</td>\n",
       "</tr>\n",
       "<tr>\n",
       "  <th></th>                      <td> - 3296</td>     <th>                     </th>     <td> </td>    \n",
       "</tr>\n",
       "<tr>\n",
       "  <th>Covariance Type:</th>        <td>opg</td>       <th>                     </th>     <td> </td>    \n",
       "</tr>\n",
       "</table>\n",
       "<table class=\"simpletable\">\n",
       "<tr>\n",
       "      <td></td>         <th>coef</th>     <th>std err</th>      <th>z</th>      <th>P>|z|</th>  <th>[0.025</th>    <th>0.975]</th>  \n",
       "</tr>\n",
       "<tr>\n",
       "  <th>intercept</th> <td>    0.2281</td> <td>    0.224</td> <td>    1.019</td> <td> 0.308</td> <td>   -0.211</td> <td>    0.667</td>\n",
       "</tr>\n",
       "<tr>\n",
       "  <th>ar.L1</th>     <td>   -1.0989</td> <td>    0.012</td> <td>  -94.070</td> <td> 0.000</td> <td>   -1.122</td> <td>   -1.076</td>\n",
       "</tr>\n",
       "<tr>\n",
       "  <th>ar.L2</th>     <td>   -0.8671</td> <td>    0.013</td> <td>  -68.546</td> <td> 0.000</td> <td>   -0.892</td> <td>   -0.842</td>\n",
       "</tr>\n",
       "<tr>\n",
       "  <th>ma.L1</th>     <td>    1.0843</td> <td>    0.014</td> <td>   80.280</td> <td> 0.000</td> <td>    1.058</td> <td>    1.111</td>\n",
       "</tr>\n",
       "<tr>\n",
       "  <th>ma.L2</th>     <td>    0.8219</td> <td>    0.015</td> <td>   53.196</td> <td> 0.000</td> <td>    0.792</td> <td>    0.852</td>\n",
       "</tr>\n",
       "<tr>\n",
       "  <th>ma.L3</th>     <td>   -0.0815</td> <td>    0.008</td> <td>   -9.822</td> <td> 0.000</td> <td>   -0.098</td> <td>   -0.065</td>\n",
       "</tr>\n",
       "<tr>\n",
       "  <th>sigma2</th>    <td>   20.4256</td> <td>    0.157</td> <td>  130.318</td> <td> 0.000</td> <td>   20.118</td> <td>   20.733</td>\n",
       "</tr>\n",
       "</table>\n",
       "<table class=\"simpletable\">\n",
       "<tr>\n",
       "  <th>Ljung-Box (L1) (Q):</th>      <td>0.06</td>  <th>  Jarque-Bera (JB):  </th> <td>56714.80</td>\n",
       "</tr>\n",
       "<tr>\n",
       "  <th>Prob(Q):</th>                 <td>0.81</td>  <th>  Prob(JB):          </th>   <td>0.00</td>  \n",
       "</tr>\n",
       "<tr>\n",
       "  <th>Heteroskedasticity (H):</th> <td>855.70</td> <th>  Skew:              </th>   <td>-0.24</td> \n",
       "</tr>\n",
       "<tr>\n",
       "  <th>Prob(H) (two-sided):</th>     <td>0.00</td>  <th>  Kurtosis:          </th>   <td>23.32</td> \n",
       "</tr>\n",
       "</table><br/><br/>Warnings:<br/>[1] Covariance matrix calculated using the outer product of gradients (complex-step)."
      ],
      "text/latex": [
       "\\begin{center}\n",
       "\\begin{tabular}{lclc}\n",
       "\\toprule\n",
       "\\textbf{Dep. Variable:}          &        y         & \\textbf{  No. Observations:  } &    3296     \\\\\n",
       "\\textbf{Model:}                  & SARIMAX(2, 1, 3) & \\textbf{  Log Likelihood     } & -9645.735   \\\\\n",
       "\\textbf{Date:}                   & Thu, 03 Aug 2023 & \\textbf{  AIC                } & 19305.470   \\\\\n",
       "\\textbf{Time:}                   &     04:37:35     & \\textbf{  BIC                } & 19348.171   \\\\\n",
       "\\textbf{Sample:}                 &        0         & \\textbf{  HQIC               } & 19320.756   \\\\\n",
       "\\textbf{}                        &      - 3296      & \\textbf{                     } &             \\\\\n",
       "\\textbf{Covariance Type:}        &       opg        & \\textbf{                     } &             \\\\\n",
       "\\bottomrule\n",
       "\\end{tabular}\n",
       "\\begin{tabular}{lcccccc}\n",
       "                   & \\textbf{coef} & \\textbf{std err} & \\textbf{z} & \\textbf{P$> |$z$|$} & \\textbf{[0.025} & \\textbf{0.975]}  \\\\\n",
       "\\midrule\n",
       "\\textbf{intercept} &       0.2281  &        0.224     &     1.019  &         0.308        &       -0.211    &        0.667     \\\\\n",
       "\\textbf{ar.L1}     &      -1.0989  &        0.012     &   -94.070  &         0.000        &       -1.122    &       -1.076     \\\\\n",
       "\\textbf{ar.L2}     &      -0.8671  &        0.013     &   -68.546  &         0.000        &       -0.892    &       -0.842     \\\\\n",
       "\\textbf{ma.L1}     &       1.0843  &        0.014     &    80.280  &         0.000        &        1.058    &        1.111     \\\\\n",
       "\\textbf{ma.L2}     &       0.8219  &        0.015     &    53.196  &         0.000        &        0.792    &        0.852     \\\\\n",
       "\\textbf{ma.L3}     &      -0.0815  &        0.008     &    -9.822  &         0.000        &       -0.098    &       -0.065     \\\\\n",
       "\\textbf{sigma2}    &      20.4256  &        0.157     &   130.318  &         0.000        &       20.118    &       20.733     \\\\\n",
       "\\bottomrule\n",
       "\\end{tabular}\n",
       "\\begin{tabular}{lclc}\n",
       "\\textbf{Ljung-Box (L1) (Q):}     &  0.06  & \\textbf{  Jarque-Bera (JB):  } & 56714.80  \\\\\n",
       "\\textbf{Prob(Q):}                &  0.81  & \\textbf{  Prob(JB):          } &   0.00    \\\\\n",
       "\\textbf{Heteroskedasticity (H):} & 855.70 & \\textbf{  Skew:              } &  -0.24    \\\\\n",
       "\\textbf{Prob(H) (two-sided):}    &  0.00  & \\textbf{  Kurtosis:          } &  23.32    \\\\\n",
       "\\bottomrule\n",
       "\\end{tabular}\n",
       "%\\caption{SARIMAX Results}\n",
       "\\end{center}\n",
       "\n",
       "Warnings: \\newline\n",
       " [1] Covariance matrix calculated using the outer product of gradients (complex-step)."
      ],
      "text/plain": [
       "<class 'statsmodels.iolib.summary.Summary'>\n",
       "\"\"\"\n",
       "                               SARIMAX Results                                \n",
       "==============================================================================\n",
       "Dep. Variable:                      y   No. Observations:                 3296\n",
       "Model:               SARIMAX(2, 1, 3)   Log Likelihood               -9645.735\n",
       "Date:                Thu, 03 Aug 2023   AIC                          19305.470\n",
       "Time:                        04:37:35   BIC                          19348.171\n",
       "Sample:                             0   HQIC                         19320.756\n",
       "                               - 3296                                         \n",
       "Covariance Type:                  opg                                         \n",
       "==============================================================================\n",
       "                 coef    std err          z      P>|z|      [0.025      0.975]\n",
       "------------------------------------------------------------------------------\n",
       "intercept      0.2281      0.224      1.019      0.308      -0.211       0.667\n",
       "ar.L1         -1.0989      0.012    -94.070      0.000      -1.122      -1.076\n",
       "ar.L2         -0.8671      0.013    -68.546      0.000      -0.892      -0.842\n",
       "ma.L1          1.0843      0.014     80.280      0.000       1.058       1.111\n",
       "ma.L2          0.8219      0.015     53.196      0.000       0.792       0.852\n",
       "ma.L3         -0.0815      0.008     -9.822      0.000      -0.098      -0.065\n",
       "sigma2        20.4256      0.157    130.318      0.000      20.118      20.733\n",
       "===================================================================================\n",
       "Ljung-Box (L1) (Q):                   0.06   Jarque-Bera (JB):             56714.80\n",
       "Prob(Q):                              0.81   Prob(JB):                         0.00\n",
       "Heteroskedasticity (H):             855.70   Skew:                            -0.24\n",
       "Prob(H) (two-sided):                  0.00   Kurtosis:                        23.32\n",
       "===================================================================================\n",
       "\n",
       "Warnings:\n",
       "[1] Covariance matrix calculated using the outer product of gradients (complex-step).\n",
       "\"\"\""
      ]
     },
     "execution_count": 17,
     "metadata": {},
     "output_type": "execute_result"
    }
   ],
   "source": [
    "stepwise_fit = auto_arima(df[\"Close\"], trace=True, suppress_warnings = True, stepwise=False, seasonal=False)\n",
    "stepwise_fit.summary()"
   ]
  },
  {
   "cell_type": "code",
   "execution_count": 18,
   "metadata": {
    "id": "vEYd_mUoo9B0"
   },
   "outputs": [],
   "source": [
    "from statsmodels.tsa.arima_model import ARIMA"
   ]
  },
  {
   "cell_type": "code",
   "execution_count": 19,
   "metadata": {
    "id": "ZvJt01Juo9Dn"
   },
   "outputs": [
    {
     "name": "stdout",
     "output_type": "stream",
     "text": [
      "(3296, 1)\n",
      "(3266, 1) (30, 1)\n"
     ]
    }
   ],
   "source": [
    "print(df.shape)\n",
    "train = df.iloc[:-30]\n",
    "test = df.iloc[-30:]\n",
    "print(train.shape,test.shape)\n"
   ]
  },
  {
   "cell_type": "code",
   "execution_count": 20,
   "metadata": {},
   "outputs": [],
   "source": [
    "import os\n",
    "train_csv = train.to_csv('tesla-arima-train.csv')\n",
    "test_csv = test.to_csv('tesla-arima-test.csv')"
   ]
  },
  {
   "cell_type": "code",
   "execution_count": 21,
   "metadata": {},
   "outputs": [],
   "source": [
    "boto3.Session().resource('s3').Bucket(bucket_name).Object(os.path.join(prefix, 'train/apple-arima-train.csv')).upload_file('apple-arima-train.csv')\n",
    "s3_input_train = sagemaker.TrainingInput(s3_data='s3://{}/{}/train'.format(bucket_name, prefix), content_type='csv')"
   ]
  },
  {
   "cell_type": "code",
   "execution_count": 22,
   "metadata": {},
   "outputs": [],
   "source": [
    "boto3.Session().resource('s3').Bucket(bucket_name).Object(os.path.join(prefix, 'test/apple-arima-test.csv')).upload_file('apple-arima-test.csv')\n",
    "s3_input_train = sagemaker.TrainingInput(s3_data='s3://{}/{}/train'.format(bucket_name, prefix), content_type='csv')"
   ]
  },
  {
   "cell_type": "code",
   "execution_count": 23,
   "metadata": {
    "id": "4kxAubsp9nGa"
   },
   "outputs": [
    {
     "data": {
      "text/plain": [
       "Date\n",
       "2010-06-29      1.592667\n",
       "2010-06-30      1.588667\n",
       "2010-07-01      1.464000\n",
       "2010-07-02      1.280000\n",
       "2010-07-06      1.074000\n",
       "                 ...    \n",
       "2023-06-13    258.709991\n",
       "2023-06-14    256.790009\n",
       "2023-06-15    255.899994\n",
       "2023-06-16    260.540009\n",
       "2023-06-20    274.450012\n",
       "Name: Close, Length: 3266, dtype: float64"
      ]
     },
     "execution_count": 23,
     "metadata": {},
     "output_type": "execute_result"
    }
   ],
   "source": [
    "train['Close']"
   ]
  },
  {
   "cell_type": "code",
   "execution_count": 24,
   "metadata": {
    "id": "6FATaFwoMUtJ"
   },
   "outputs": [
    {
     "data": {
      "text/plain": [
       "Date\n",
       "2023-07-27    255.710007\n",
       "2023-07-28    266.440002\n",
       "2023-07-31    267.429993\n",
       "2023-08-01    261.070007\n",
       "2023-08-02    254.110001\n",
       "Name: Close, dtype: float64"
      ]
     },
     "execution_count": 24,
     "metadata": {},
     "output_type": "execute_result"
    }
   ],
   "source": [
    "test[\"Close\"].tail()"
   ]
  },
  {
   "cell_type": "code",
   "execution_count": 25,
   "metadata": {
    "id": "kN8TAohRg2gE"
   },
   "outputs": [
    {
     "data": {
      "text/html": [
       "<table class=\"simpletable\">\n",
       "<caption>SARIMAX Results</caption>\n",
       "<tr>\n",
       "  <th>Dep. Variable:</th>         <td>Close</td>      <th>  No. Observations:  </th>   <td>3266</td>   \n",
       "</tr>\n",
       "<tr>\n",
       "  <th>Model:</th>            <td>ARIMA(2, 1, 3)</td>  <th>  Log Likelihood     </th> <td>-9540.325</td>\n",
       "</tr>\n",
       "<tr>\n",
       "  <th>Date:</th>            <td>Thu, 03 Aug 2023</td> <th>  AIC                </th> <td>19092.649</td>\n",
       "</tr>\n",
       "<tr>\n",
       "  <th>Time:</th>                <td>04:37:39</td>     <th>  BIC                </th> <td>19129.195</td>\n",
       "</tr>\n",
       "<tr>\n",
       "  <th>Sample:</th>                  <td>0</td>        <th>  HQIC               </th> <td>19105.738</td>\n",
       "</tr>\n",
       "<tr>\n",
       "  <th></th>                      <td> - 3266</td>     <th>                     </th>     <td> </td>    \n",
       "</tr>\n",
       "<tr>\n",
       "  <th>Covariance Type:</th>        <td>opg</td>       <th>                     </th>     <td> </td>    \n",
       "</tr>\n",
       "</table>\n",
       "<table class=\"simpletable\">\n",
       "<tr>\n",
       "     <td></td>       <th>coef</th>     <th>std err</th>      <th>z</th>      <th>P>|z|</th>  <th>[0.025</th>    <th>0.975]</th>  \n",
       "</tr>\n",
       "<tr>\n",
       "  <th>ar.L1</th>  <td>   -0.0327</td> <td>    0.073</td> <td>   -0.450</td> <td> 0.653</td> <td>   -0.175</td> <td>    0.110</td>\n",
       "</tr>\n",
       "<tr>\n",
       "  <th>ar.L2</th>  <td>    0.7488</td> <td>    0.068</td> <td>   11.088</td> <td> 0.000</td> <td>    0.616</td> <td>    0.881</td>\n",
       "</tr>\n",
       "<tr>\n",
       "  <th>ma.L1</th>  <td>   -0.0021</td> <td>    0.072</td> <td>   -0.029</td> <td> 0.977</td> <td>   -0.143</td> <td>    0.139</td>\n",
       "</tr>\n",
       "<tr>\n",
       "  <th>ma.L2</th>  <td>   -0.7351</td> <td>    0.069</td> <td>  -10.659</td> <td> 0.000</td> <td>   -0.870</td> <td>   -0.600</td>\n",
       "</tr>\n",
       "<tr>\n",
       "  <th>ma.L3</th>  <td>    0.0639</td> <td>    0.008</td> <td>    7.840</td> <td> 0.000</td> <td>    0.048</td> <td>    0.080</td>\n",
       "</tr>\n",
       "<tr>\n",
       "  <th>sigma2</th> <td>   20.2092</td> <td>    0.146</td> <td>  138.298</td> <td> 0.000</td> <td>   19.923</td> <td>   20.496</td>\n",
       "</tr>\n",
       "</table>\n",
       "<table class=\"simpletable\">\n",
       "<tr>\n",
       "  <th>Ljung-Box (L1) (Q):</th>      <td>0.00</td>  <th>  Jarque-Bera (JB):  </th> <td>68381.45</td>\n",
       "</tr>\n",
       "<tr>\n",
       "  <th>Prob(Q):</th>                 <td>0.99</td>  <th>  Prob(JB):          </th>   <td>0.00</td>  \n",
       "</tr>\n",
       "<tr>\n",
       "  <th>Heteroskedasticity (H):</th> <td>969.00</td> <th>  Skew:              </th>   <td>-0.19</td> \n",
       "</tr>\n",
       "<tr>\n",
       "  <th>Prob(H) (two-sided):</th>     <td>0.00</td>  <th>  Kurtosis:          </th>   <td>25.42</td> \n",
       "</tr>\n",
       "</table><br/><br/>Warnings:<br/>[1] Covariance matrix calculated using the outer product of gradients (complex-step)."
      ],
      "text/latex": [
       "\\begin{center}\n",
       "\\begin{tabular}{lclc}\n",
       "\\toprule\n",
       "\\textbf{Dep. Variable:}          &      Close       & \\textbf{  No. Observations:  } &    3266     \\\\\n",
       "\\textbf{Model:}                  &  ARIMA(2, 1, 3)  & \\textbf{  Log Likelihood     } & -9540.325   \\\\\n",
       "\\textbf{Date:}                   & Thu, 03 Aug 2023 & \\textbf{  AIC                } & 19092.649   \\\\\n",
       "\\textbf{Time:}                   &     04:37:39     & \\textbf{  BIC                } & 19129.195   \\\\\n",
       "\\textbf{Sample:}                 &        0         & \\textbf{  HQIC               } & 19105.738   \\\\\n",
       "\\textbf{}                        &      - 3266      & \\textbf{                     } &             \\\\\n",
       "\\textbf{Covariance Type:}        &       opg        & \\textbf{                     } &             \\\\\n",
       "\\bottomrule\n",
       "\\end{tabular}\n",
       "\\begin{tabular}{lcccccc}\n",
       "                & \\textbf{coef} & \\textbf{std err} & \\textbf{z} & \\textbf{P$> |$z$|$} & \\textbf{[0.025} & \\textbf{0.975]}  \\\\\n",
       "\\midrule\n",
       "\\textbf{ar.L1}  &      -0.0327  &        0.073     &    -0.450  &         0.653        &       -0.175    &        0.110     \\\\\n",
       "\\textbf{ar.L2}  &       0.7488  &        0.068     &    11.088  &         0.000        &        0.616    &        0.881     \\\\\n",
       "\\textbf{ma.L1}  &      -0.0021  &        0.072     &    -0.029  &         0.977        &       -0.143    &        0.139     \\\\\n",
       "\\textbf{ma.L2}  &      -0.7351  &        0.069     &   -10.659  &         0.000        &       -0.870    &       -0.600     \\\\\n",
       "\\textbf{ma.L3}  &       0.0639  &        0.008     &     7.840  &         0.000        &        0.048    &        0.080     \\\\\n",
       "\\textbf{sigma2} &      20.2092  &        0.146     &   138.298  &         0.000        &       19.923    &       20.496     \\\\\n",
       "\\bottomrule\n",
       "\\end{tabular}\n",
       "\\begin{tabular}{lclc}\n",
       "\\textbf{Ljung-Box (L1) (Q):}     &  0.00  & \\textbf{  Jarque-Bera (JB):  } & 68381.45  \\\\\n",
       "\\textbf{Prob(Q):}                &  0.99  & \\textbf{  Prob(JB):          } &   0.00    \\\\\n",
       "\\textbf{Heteroskedasticity (H):} & 969.00 & \\textbf{  Skew:              } &  -0.19    \\\\\n",
       "\\textbf{Prob(H) (two-sided):}    &  0.00  & \\textbf{  Kurtosis:          } &  25.42    \\\\\n",
       "\\bottomrule\n",
       "\\end{tabular}\n",
       "%\\caption{SARIMAX Results}\n",
       "\\end{center}\n",
       "\n",
       "Warnings: \\newline\n",
       " [1] Covariance matrix calculated using the outer product of gradients (complex-step)."
      ],
      "text/plain": [
       "<class 'statsmodels.iolib.summary.Summary'>\n",
       "\"\"\"\n",
       "                               SARIMAX Results                                \n",
       "==============================================================================\n",
       "Dep. Variable:                  Close   No. Observations:                 3266\n",
       "Model:                 ARIMA(2, 1, 3)   Log Likelihood               -9540.325\n",
       "Date:                Thu, 03 Aug 2023   AIC                          19092.649\n",
       "Time:                        04:37:39   BIC                          19129.195\n",
       "Sample:                             0   HQIC                         19105.738\n",
       "                               - 3266                                         \n",
       "Covariance Type:                  opg                                         \n",
       "==============================================================================\n",
       "                 coef    std err          z      P>|z|      [0.025      0.975]\n",
       "------------------------------------------------------------------------------\n",
       "ar.L1         -0.0327      0.073     -0.450      0.653      -0.175       0.110\n",
       "ar.L2          0.7488      0.068     11.088      0.000       0.616       0.881\n",
       "ma.L1         -0.0021      0.072     -0.029      0.977      -0.143       0.139\n",
       "ma.L2         -0.7351      0.069    -10.659      0.000      -0.870      -0.600\n",
       "ma.L3          0.0639      0.008      7.840      0.000       0.048       0.080\n",
       "sigma2        20.2092      0.146    138.298      0.000      19.923      20.496\n",
       "===================================================================================\n",
       "Ljung-Box (L1) (Q):                   0.00   Jarque-Bera (JB):             68381.45\n",
       "Prob(Q):                              0.99   Prob(JB):                         0.00\n",
       "Heteroskedasticity (H):             969.00   Skew:                            -0.19\n",
       "Prob(H) (two-sided):                  0.00   Kurtosis:                        25.42\n",
       "===================================================================================\n",
       "\n",
       "Warnings:\n",
       "[1] Covariance matrix calculated using the outer product of gradients (complex-step).\n",
       "\"\"\""
      ]
     },
     "execution_count": 25,
     "metadata": {},
     "output_type": "execute_result"
    }
   ],
   "source": [
    "import statsmodels.api as sm\n",
    "model = sm.tsa.arima.ARIMA(train[\"Close\"], order=(2,1,3))\n",
    "model = model.fit()\n",
    "model.summary()"
   ]
  },
  {
   "cell_type": "code",
   "execution_count": 26,
   "metadata": {
    "id": "ISDz3LDH9mVV"
   },
   "outputs": [
    {
     "name": "stdout",
     "output_type": "stream",
     "text": [
      "Date\n",
      "2023-06-21    274.636667\n",
      "2023-06-22    275.393052\n",
      "2023-06-23    276.368125\n",
      "2023-06-26    276.902697\n",
      "2023-06-27    277.615419\n",
      "2023-06-28    277.992454\n",
      "2023-06-29    278.513860\n",
      "2023-06-30    278.779173\n",
      "2023-07-03    279.160962\n",
      "2023-07-05    279.347172\n",
      "2023-07-06    279.626991\n",
      "2023-07-07    279.757295\n",
      "2023-07-10    279.962582\n",
      "2023-07-11    280.053455\n",
      "2023-07-12    280.204215\n",
      "2023-07-13    280.267342\n",
      "2023-07-14    280.378177\n",
      "2023-07-17    280.421829\n",
      "2023-07-18    280.503402\n",
      "2023-07-19    280.533426\n",
      "2023-07-20    280.593531\n",
      "2023-07-21    280.614052\n",
      "2023-07-24    280.658391\n",
      "2023-07-25    280.672310\n",
      "2023-07-26    280.705059\n",
      "2023-07-27    280.714413\n",
      "2023-07-28    280.738631\n",
      "2023-07-31    280.744844\n",
      "2023-08-01    280.762777\n",
      "2023-08-02    280.766845\n",
      "Name: predicted_mean, dtype: float64\n"
     ]
    }
   ],
   "source": [
    "start = len(train)\n",
    "end = len(train)+len(test)-1\n",
    "pred = model.predict(start=start,end=end,typ='levels')\n",
    "pred.index = df.index[start:end+1]\n",
    "print(pred)"
   ]
  },
  {
   "cell_type": "code",
   "execution_count": 27,
   "metadata": {},
   "outputs": [],
   "source": [
    "pred_csv=pred.to_csv('pred-tesla.csv')"
   ]
  },
  {
   "cell_type": "code",
   "execution_count": null,
   "metadata": {},
   "outputs": [],
   "source": []
  },
  {
   "cell_type": "code",
   "execution_count": 28,
   "metadata": {
    "id": "0BvPzgjU8ZyQ"
   },
   "outputs": [
    {
     "data": {
      "text/plain": [
       "<Axes: xlabel='Date'>"
      ]
     },
     "execution_count": 28,
     "metadata": {},
     "output_type": "execute_result"
    },
    {
     "data": {
      "image/png": "[encoded data removed]",
      "text/plain": [
       "<Figure size 640x480 with 1 Axes>"
      ]
     },
     "metadata": {},
     "output_type": "display_data"
    }
   ],
   "source": [
    "pred.plot(legend=True)\n",
    "test[\"Close\"].plot(legend=True)"
   ]
  },
  {
   "cell_type": "code",
   "execution_count": 29,
   "metadata": {
    "id": "-4mfh1ru8Z0d"
   },
   "outputs": [
    {
     "name": "stdout",
     "output_type": "stream",
     "text": [
      "16.50569417622156\n"
     ]
    }
   ],
   "source": [
    "from sklearn.metrics import mean_squared_error \n",
    "from math import sqrt\n",
    "rmse = sqrt(mean_squared_error(pred,test[\"Close\"]))\n",
    "print(rmse)"
   ]
  },
  {
   "cell_type": "code",
   "execution_count": 30,
   "metadata": {
    "id": "iVEFjDTDAfLF"
   },
   "outputs": [
    {
     "data": {
      "text/plain": [
       "267.757666015625"
      ]
     },
     "execution_count": 30,
     "metadata": {},
     "output_type": "execute_result"
    }
   ],
   "source": [
    "test[\"Close\"].mean()"
   ]
  },
  {
   "cell_type": "code",
   "execution_count": 31,
   "metadata": {
    "id": "1hainFWk8Z25"
   },
   "outputs": [],
   "source": [
    "model2 = sm.tsa.arima.ARIMA(train[\"Close\"], order=(2,1,3))\n",
    "model2 = model2.fit()\n"
   ]
  },
  {
   "cell_type": "code",
   "execution_count": 32,
   "metadata": {
    "id": "FIHeBA7Wu3IF"
   },
   "outputs": [
    {
     "data": {
      "text/plain": [
       "Date\n",
       "2010-06-29      1.592667\n",
       "2010-06-30      1.588667\n",
       "2010-07-01      1.464000\n",
       "2010-07-02      1.280000\n",
       "2010-07-06      1.074000\n",
       "                 ...    \n",
       "2023-06-13    258.709991\n",
       "2023-06-14    256.790009\n",
       "2023-06-15    255.899994\n",
       "2023-06-16    260.540009\n",
       "2023-06-20    274.450012\n",
       "Name: Close, Length: 3266, dtype: float64"
      ]
     },
     "execution_count": 32,
     "metadata": {},
     "output_type": "execute_result"
    }
   ],
   "source": [
    "train[\"Close\"]"
   ]
  },
  {
   "cell_type": "markdown",
   "metadata": {
    "id": "xXDqD4WmBcPF"
   },
   "source": [
    "Fututre predictions"
   ]
  },
  {
   "cell_type": "code",
   "execution_count": 33,
   "metadata": {
    "id": "cD5wo4wq8Z8C"
   },
   "outputs": [],
   "source": [
    "future_index=pd.date_range(start=\"2023-05-04\", end = \"2023-06-02\")\n",
    "pred = model2.predict(start = len(df),end=len(df)+29,typ='levels').rename('ARIMA Prdictions')\n",
    "pred.index = future_index"
   ]
  },
  {
   "cell_type": "code",
   "execution_count": 34,
   "metadata": {
    "id": "XwUTuPQrIbHF"
   },
   "outputs": [
    {
     "data": {
      "text/plain": [
       "2023-05-04    280.780141\n",
       "2023-05-05    280.782752\n",
       "2023-05-06    280.792624\n",
       "2023-05-07    280.794257\n",
       "2023-05-08    280.801596\n",
       "2023-05-09    280.802579\n",
       "2023-05-10    280.808043\n",
       "2023-05-11    280.808601\n",
       "2023-05-12    280.812674\n",
       "2023-05-13    280.812959\n",
       "2023-05-14    280.816000\n",
       "2023-05-15    280.816114\n",
       "2023-05-16    280.818387\n",
       "2023-05-17    280.818398\n",
       "2023-05-18    280.820100\n",
       "2023-05-19    280.820053\n",
       "2023-05-20    280.821329\n",
       "2023-05-21    280.821252\n",
       "2023-05-22    280.822210\n",
       "2023-05-23    280.822121\n",
       "2023-05-24    280.822841\n",
       "2023-05-25    280.822751\n",
       "2023-05-26    280.823294\n",
       "2023-05-27    280.823208\n",
       "2023-05-28    280.823617\n",
       "2023-05-29    280.823540\n",
       "2023-05-30    280.823849\n",
       "2023-05-31    280.823781\n",
       "2023-06-01    280.824015\n",
       "2023-06-02    280.823956\n",
       "Freq: D, Name: ARIMA Prdictions, dtype: float64"
      ]
     },
     "execution_count": 34,
     "metadata": {},
     "output_type": "execute_result"
    }
   ],
   "source": [
    "pred"
   ]
  },
  {
   "cell_type": "code",
   "execution_count": 35,
   "metadata": {},
   "outputs": [],
   "source": [
    "output=pred.to_csv('tesla-arima-output.csv')\n"
   ]
  },
  {
   "cell_type": "code",
   "execution_count": 36,
   "metadata": {},
   "outputs": [],
   "source": [
    "boto3.Session().resource('s3').Bucket(bucket_name).Object(os.path.join(prefix, 'output/tesla-arima-output.csv')).upload_file('tesla-arima-output.csv')\n",
    "s3_input_train = sagemaker.TrainingInput(s3_data='s3://{}/{}/train'.format(bucket_name, prefix), content_type='csv')"
   ]
  },
  {
   "cell_type": "code",
   "execution_count": 37,
   "metadata": {
    "id": "jNA5FG-HIbMD"
   },
   "outputs": [
    {
     "name": "stdout",
     "output_type": "stream",
     "text": [
      "RMSE: 17.89\n",
      "MAPE: nan%\n",
      "MAE: 15.37\n"
     ]
    }
   ],
   "source": [
    "# Calculate RMSE, MAPE, and MAE\n",
    "from sklearn.metrics import mean_squared_error, mean_absolute_error \n",
    "from math import sqrt\n",
    "rmse = sqrt(mean_squared_error(pred,test[\"Close\"]))\n",
    "mape = np.mean(np.abs((test[\"Close\"] - pred) / test[\"Close\"])) * 100\n",
    "mae = mean_absolute_error(pred, test[\"Close\"])\n",
    "\n",
    "# Print metrics\n",
    "print(f'RMSE: {rmse:.2f}')\n",
    "print(f'MAPE: {mape:.2f}%')\n",
    "print(f'MAE: {mae:.2f}')\n"
   ]
  },
  {
   "cell_type": "code",
   "execution_count": null,
   "metadata": {
    "id": "xnv8wZ6kIbOk"
   },
   "outputs": [],
   "source": []
  },
  {
   "cell_type": "code",
   "execution_count": null,
   "metadata": {
    "id": "GZAYb1MrIbRA"
   },
   "outputs": [],
   "source": []
  },
  {
   "cell_type": "code",
   "execution_count": null,
   "metadata": {
    "id": "gmOzFapwIbTs"
   },
   "outputs": [],
   "source": []
  },
  {
   "cell_type": "code",
   "execution_count": null,
   "metadata": {
    "id": "uaw5StEVIbWP"
   },
   "outputs": [],
   "source": []
  }
 ],
 "metadata": {
  "colab": {
   "private_outputs": true,
   "provenance": []
  },
  "kernelspec": {
   "display_name": "conda_tensorflow2_p310",
   "language": "python",
   "name": "conda_tensorflow2_p310"
  },
  "language_info": {
   "codemirror_mode": {
    "name": "ipython",
    "version": 3
   },
   "file_extension": ".py",
   "mimetype": "text/x-python",
   "name": "python",
   "nbconvert_exporter": "python",
   "pygments_lexer": "ipython3",
   "version": "3.10.10"
  }
 },
 "nbformat": 4,
 "nbformat_minor": 1
}
